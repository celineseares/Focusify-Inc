{
 "cells": [
  {
   "cell_type": "markdown",
   "id": "cede1edd",
   "metadata": {},
   "source": [
    "# 1. Read data\n"
   ]
  },
  {
   "cell_type": "code",
   "execution_count": null,
   "id": "954a98b6",
   "metadata": {},
   "outputs": [],
   "source": []
  },
  {
   "cell_type": "code",
   "execution_count": null,
   "id": "cc37317a",
   "metadata": {},
   "outputs": [],
   "source": [
    "import nltk\n",
    "import pandas as pd\n",
    "\n",
    "df = pd.read_csv('movie_reviews.csv')\n",
    "\n",
    "# Display the total number of rows and columns\n",
    "\n",
    "# Display the first 5 records\n"
   ]
  },
  {
   "cell_type": "markdown",
   "id": "dd5145c2",
   "metadata": {},
   "source": [
    "![](https://i.imgur.com/pt5p6Hb.png)"
   ]
  },
  {
   "cell_type": "markdown",
   "id": "a0be6fce",
   "metadata": {},
   "source": [
    "# 2. Pre-process the Data"
   ]
  },
  {
   "cell_type": "code",
   "execution_count": null,
   "id": "ceea7559",
   "metadata": {},
   "outputs": [],
   "source": [
    "# Text preprocessing steps - remove numbers, captial letters and punctuation\n",
    "import re\n",
    "import string\n",
    "\n",
    "alphanumeric = lambda x: re.sub('[^\\w\\s]', ' ', x)\n",
    "punc_lower = lambda x: re.sub('\\d', ' ', x.lower())\n",
    "\n",
    "rv = df['review']\n",
    "df['review'] = rv.map(alphanumeric).map(punc_lower)\n",
    "\n",
    "# Display the pre-processed \"review\""
   ]
  },
  {
   "cell_type": "code",
   "execution_count": null,
   "id": "2a20ca79",
   "metadata": {},
   "outputs": [],
   "source": [
    "from nltk.corpus import stopwords\n",
    "stop=stopwords.words('english') \n",
    "\n",
    "# Try with other language - eg: Indonesian\n",
    "# Display all the stopwords in NLTK"
   ]
  },
  {
   "cell_type": "code",
   "execution_count": null,
   "id": "f85a1034",
   "metadata": {},
   "outputs": [],
   "source": [
    "custom_stop_words = ['br']\n",
    "stop.extend(custom_stop_words)"
   ]
  },
  {
   "cell_type": "code",
   "execution_count": null,
   "id": "0c315e62",
   "metadata": {},
   "outputs": [],
   "source": [
    "df['review'] = df['review'].apply(lambda x:' '.join([word for word in x.split() \\\n",
    "                                       if word not in (stop)]))\n",
    "df['review']"
   ]
  },
  {
   "cell_type": "code",
   "execution_count": null,
   "id": "00bc69f8",
   "metadata": {},
   "outputs": [],
   "source": [
    "# Identify the feature and label (X,y)\n"
   ]
  },
  {
   "cell_type": "markdown",
   "id": "98ce01cb",
   "metadata": {},
   "source": [
    "# 3. Data Splitting "
   ]
  },
  {
   "cell_type": "code",
   "execution_count": null,
   "id": "9a92e162",
   "metadata": {},
   "outputs": [],
   "source": [
    "from sklearn.model_selection import train_test_split\n",
    "X_train, X_test, y_train, y_test = train_test_split(X,y,test_size=0.2,random_state=42)"
   ]
  },
  {
   "cell_type": "markdown",
   "id": "8e86b228",
   "metadata": {},
   "source": [
    "# 4. Feature Extraction - Text Vectorization"
   ]
  },
  {
   "cell_type": "code",
   "execution_count": null,
   "id": "f556e3be",
   "metadata": {},
   "outputs": [],
   "source": [
    "from sklearn.feature_extraction.text import CountVectorizer#TfidfVectorizer\n",
    "import joblib #for saving and loading Python objects\n",
    "\n",
    "cv = CountVectorizer(stop_words=\"english\")\n",
    "X_train_CV = cv.fit_transform(X_train)\n",
    "X_test_CV = cv.transform(X_test)\n",
    "\n",
    "# Save the CountVectorizer as a pickle file\n",
    "joblib.dump(cv, 'vectorizer.pkl')"
   ]
  },
  {
   "cell_type": "markdown",
   "id": "129139dc",
   "metadata": {},
   "source": [
    "![](https://i.ibb.co/HN2M07C/pickle.png)\n",
    "<!-- <a href=\"https://imgbb.com/\"><img src=\"https://i.ibb.co/HN2M07C/pickle.png\" alt=\"pickle\" border=\"0\" /></a> -->\n",
    "<!-- ![](https://i.imgur.com/pt5p6Hb.png) -->"
   ]
  },
  {
   "cell_type": "markdown",
   "id": "3ab81bd4",
   "metadata": {},
   "source": [
    "# 5. Model Training - Prediction"
   ]
  },
  {
   "cell_type": "code",
   "execution_count": null,
   "id": "eb4650f9",
   "metadata": {},
   "outputs": [],
   "source": [
    "from sklearn.svm import SVC\n",
    "import joblib\n",
    "\n",
    "svm = SVC()\n",
    "\n",
    "#Start modal training using SVM\n"
   ]
  },
  {
   "cell_type": "code",
   "execution_count": null,
   "id": "ad551a7e",
   "metadata": {},
   "outputs": [],
   "source": [
    "# Save the trained model as a pickle file\n",
    "joblib.dump(svm, 'svm_model.pkl')"
   ]
  },
  {
   "cell_type": "code",
   "execution_count": null,
   "id": "6a5e4929",
   "metadata": {},
   "outputs": [],
   "source": [
    "#Start modal prediction using SVM\n"
   ]
  },
  {
   "cell_type": "code",
   "execution_count": null,
   "id": "6a30d52b",
   "metadata": {},
   "outputs": [],
   "source": [
    "from sklearn.metrics import accuracy_score\n",
    "\n",
    "accuracy_score(y_test,svm_re)"
   ]
  },
  {
   "cell_type": "code",
   "execution_count": null,
   "id": "ed06b7c1",
   "metadata": {},
   "outputs": [],
   "source": [
    "testcase = [\"I dislike this movie.\"]\n",
    "tc_cv = cv.transform(testcase)\n",
    "output = svm.predict(tc_cv)\n",
    "output"
   ]
  },
  {
   "cell_type": "code",
   "execution_count": null,
   "id": "10572210",
   "metadata": {},
   "outputs": [],
   "source": [
    "# Load the SVM model and vectorizer\n",
    "svm_model = joblib.load('svm_model.pkl')\n",
    "vectorizer = joblib.load('vectorizer.pkl')\n",
    "\n"
   ]
  },
  {
   "cell_type": "markdown",
   "id": "a39e7a0a",
   "metadata": {},
   "source": [
    "# 6. GUI"
   ]
  },
  {
   "cell_type": "markdown",
   "id": "d4e2a4e2",
   "metadata": {},
   "source": [
    "from tkinter import Tk, Label, Text, Button, Entry, W, messagebox\n",
    "\n",
    "gui = Tk()\n",
    "gui.config(background=\"light green\")\n",
    "gui.title(\"Sentiment Detector\")\n",
    "gui.geometry(\"250x400\")\n",
    "\n",
    "def analyze_sentiment():\n",
    "    text = textArea.get(\"1.0\", \"end\").strip()\n",
    "    if text:\n",
    "        # Vectorize the input text\n",
    "        text_vectorized = vectorizer.transform([text])\n",
    "        # Predict sentiment using the SVM model\n",
    "        prediction = svm_model.predict(text_vectorized)\n",
    "        sentiment = \"Positive\" if prediction[0] == 'positive' else \"Negative\"\n",
    "        overallField.delete(0, \"end\")  # Clear previous content\n",
    "        overallField.insert(0, sentiment)  # Set the sentiment in the Entry widget\n",
    "    else:\n",
    "        messagebox.showwarning(\"Input Error\", \"Please enter text for analysis.\")\n",
    "\n",
    "enterText = Label(gui, text=\"Enter Your Sentence\", bg=\"light green\")\n",
    "textArea = Text(gui, height=5, width=25, font=\"lucida 13\")\n",
    "check = Button(gui, text=\"Check Sentiment\", fg=\"Black\", bg=\"Red\", command=analyze_sentiment)\n",
    "overall = Label(gui, text=\"Sentence Overall Rated As: \", bg=\"light green\")\n",
    "overallField = Entry(gui)\n",
    "clear = Button(gui, text=\"Clear\", fg=\"Black\", bg=\"Red\", command=lambda: textArea.delete(\"1.0\", \"end\"))\n",
    "\n",
    "\n",
    "\n",
    "enterText.grid(row=0, column=2)\n",
    "textArea.grid(row=1, column=2, padx=10, sticky=W)\n",
    "check.grid(row=2, column=2, pady=10)\n",
    "overall.grid(row=9, column=2 , pady=(30,0))\n",
    "overallField.grid(row=10, column=2)\n",
    "clear.grid(row=11, column=2, pady=10)\n",
    "\n",
    "gui.mainloop()\n"
   ]
  },
  {
   "cell_type": "markdown",
   "id": "33409a3c",
   "metadata": {},
   "source": [
    "# Exerice"
   ]
  },
  {
   "cell_type": "markdown",
   "id": "f19e6916",
   "metadata": {},
   "source": [
    "1. Try to use different model to perform the sentiment analysis (Eg: Logistic Regression (LR) instead of SVM). Compare the performance in terms of its accuracy."
   ]
  },
  {
   "cell_type": "markdown",
   "id": "b6cba151",
   "metadata": {},
   "source": [
    "2. Modify the GUI to LR model."
   ]
  },
  {
   "cell_type": "markdown",
   "id": "37434147",
   "metadata": {},
   "source": [
    "![](https://i.ibb.co/P1zWX1c/LR.pn)\n",
    "\n",
    "# <a href=\"https://imgbb.com/\"><img src=\"https://i.ibb.co/P1zWX1c/LR.png\" alt=\"LR\" border=\"0\" /></a>"
   ]
  }
 ],
 "metadata": {
  "kernelspec": {
   "display_name": "Python 3 (ipykernel)",
   "language": "python",
   "name": "python3"
  },
  "language_info": {
   "codemirror_mode": {
    "name": "ipython",
    "version": 3
   },
   "file_extension": ".py",
   "mimetype": "text/x-python",
   "name": "python",
   "nbconvert_exporter": "python",
   "pygments_lexer": "ipython3",
   "version": "3.11.5"
  }
 },
 "nbformat": 4,
 "nbformat_minor": 5
}
